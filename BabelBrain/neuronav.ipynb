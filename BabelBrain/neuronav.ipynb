{
 "cells": [
  {
   "cell_type": "code",
   "execution_count": 8,
   "metadata": {},
   "outputs": [
    {
     "ename": "ModuleNotFoundError",
     "evalue": "No module named 'BabelIntegrationBASE'",
     "output_type": "error",
     "traceback": [
      "\u001b[0;31m---------------------------------------------------------------------------\u001b[0m",
      "\u001b[0;31mModuleNotFoundError\u001b[0m                       Traceback (most recent call last)",
      "Cell \u001b[0;32mIn[8], line 4\u001b[0m\n\u001b[1;32m      2\u001b[0m \u001b[38;5;28;01mimport\u001b[39;00m \u001b[38;5;21;01mmatplotlib\u001b[39;00m\u001b[38;5;21;01m.\u001b[39;00m\u001b[38;5;21;01mpyplot\u001b[39;00m \u001b[38;5;28;01mas\u001b[39;00m \u001b[38;5;21;01mplt\u001b[39;00m\n\u001b[1;32m      3\u001b[0m \u001b[38;5;28;01mfrom\u001b[39;00m \u001b[38;5;21;01mBabelViscoFDTD\u001b[39;00m\u001b[38;5;21;01m.\u001b[39;00m\u001b[38;5;21;01mtools\u001b[39;00m\u001b[38;5;21;01m.\u001b[39;00m\u001b[38;5;21;01mRayleighAndBHTE\u001b[39;00m  \u001b[38;5;28;01mimport\u001b[39;00m ForwardSimple, GenerateSurface, SpeedofSoundWater\n\u001b[0;32m----> 4\u001b[0m \u001b[38;5;28;01mfrom\u001b[39;00m \u001b[38;5;21;01mBabelIntegrationBASE\u001b[39;00m \u001b[38;5;28;01mimport\u001b[39;00m (RUN_SIM_BASE, \n\u001b[1;32m      5\u001b[0m                             BabelFTD_Simulations_BASE,\n\u001b[1;32m      6\u001b[0m                             SimulationConditionsBASE,\n\u001b[1;32m      7\u001b[0m                             Material)\n",
      "\u001b[0;31mModuleNotFoundError\u001b[0m: No module named 'BabelIntegrationBASE'"
     ]
    }
   ],
   "source": [
    "import numpy as np\n",
    "import matplotlib.pyplot as plt\n",
    "from BabelViscoFDTD.tools.RayleighAndBHTE  import ForwardSimple, GenerateSurface, SpeedofSoundWater\n",
    "from BabelIntegrationBASE import (RUN_SIM_BASE, \n",
    "                            BabelFTD_Simulations_BASE,\n",
    "                            SimulationConditionsBASE,\n",
    "                            Material)"
   ]
  },
  {
   "cell_type": "code",
   "execution_count": null,
   "metadata": {},
   "outputs": [
    {
     "name": "stdout",
     "output_type": "stream",
     "text": [
      "loading /Users/capricieuxv/anaconda3/envs/neuronav/lib/python3.8/site-packages/BabelViscoFDTD/tools/libBabelMetal.dylib\n",
      "Metal devices\n",
      "Apple M1 Pro\n",
      "Is device low power? false.\n",
      "Is device external? false.\n",
      "Maximum threads per group: MTLSize(width: 1024, height: 1024, depth: 1024).\n",
      "loaded Metal <CDLL '/Users/capricieuxv/anaconda3/envs/neuronav/lib/python3.8/site-packages/BabelViscoFDTD/tools/libBabelMetal.dylib', handle 7de22590 at 0x113dc5940>\n",
      "Maximum buffer length: 8.0 GB.\n"
     ]
    },
    {
     "ename": "ImportError",
     "evalue": "cannot import name 'SimulationConditions' from 'BabelViscoFDTD.tools.RayleighAndBHTE' (/Users/capricieuxv/anaconda3/envs/neuronav/lib/python3.8/site-packages/BabelViscoFDTD/tools/RayleighAndBHTE.py)",
     "output_type": "error",
     "traceback": [
      "\u001b[0;31m---------------------------------------------------------------------------\u001b[0m",
      "\u001b[0;31mImportError\u001b[0m                               Traceback (most recent call last)",
      "Cell \u001b[0;32mIn[2], line 1\u001b[0m\n\u001b[0;32m----> 1\u001b[0m \u001b[38;5;28;01mfrom\u001b[39;00m \u001b[38;5;21;01mBabelViscoFDTD\u001b[39;00m\u001b[38;5;21;01m.\u001b[39;00m\u001b[38;5;21;01mtools\u001b[39;00m\u001b[38;5;21;01m.\u001b[39;00m\u001b[38;5;21;01mRayleighAndBHTE\u001b[39;00m  \u001b[38;5;28;01mimport\u001b[39;00m ForwardSimple, GenerateSurface, SpeedofSoundWater, SimulationConditions\n\u001b[1;32m      3\u001b[0m \u001b[38;5;28;01mdef\u001b[39;00m \u001b[38;5;21mGenerateFocusTx\u001b[39m(f, Foc, Diam, c, PPWSurface\u001b[38;5;241m=\u001b[39m\u001b[38;5;241m5\u001b[39m):\n\u001b[1;32m      4\u001b[0m     wavelength \u001b[38;5;241m=\u001b[39m c \u001b[38;5;241m/\u001b[39m f\n",
      "\u001b[0;31mImportError\u001b[0m: cannot import name 'SimulationConditions' from 'BabelViscoFDTD.tools.RayleighAndBHTE' (/Users/capricieuxv/anaconda3/envs/neuronav/lib/python3.8/site-packages/BabelViscoFDTD/tools/RayleighAndBHTE.py)"
     ]
    }
   ],
   "source": [
    "\n",
    "\n",
    "def GenerateFocusTx(f, Foc, Diam, c, PPWSurface=5):\n",
    "    wavelength = c / f\n",
    "    lstep = wavelength / PPWSurface\n",
    "    Tx = GenerateSurface(lstep, Diam, Foc)\n",
    "    return Tx\n",
    "\n",
    "def CalculateRayleighFieldsFreeWater(self, deviceName='6800'):\n",
    "    print(\"Calculating Rayleigh-based field in free water...\")\n",
    "\n",
    "    self._TxRC = self.GenTx()\n",
    "    \n",
    "    cwvnb_extlay = np.array(2 * np.pi * self._Frequency / SpeedofSoundWater(20.0) + 1j * 0).astype(np.complex64)\n",
    "    \n",
    "    u0 = (np.ones((self._TxRC['center'].shape[0], 1), np.float32) + \n",
    "          1j * np.zeros((self._TxRC['center'].shape[0], 1), np.float32)) * self._SourceAmpPa\n",
    "\n",
    "    nxf = len(self._XDim)\n",
    "    nyf = len(self._YDim)\n",
    "    nzf = len(self._ZDim)\n",
    "    yp, xp, zp = np.meshgrid(self._YDim, self._XDim, self._ZDim)\n",
    "    rf = np.hstack((np.reshape(xp, (nxf * nyf * nzf, 1)),\n",
    "                    np.reshape(yp, (nxf * nyf * nzf, 1)), \n",
    "                    np.reshape(zp, (nxf * nyf * nzf, 1)))).astype(np.float32)\n",
    "\n",
    "    u2 = ForwardSimple(cwvnb_extlay, \n",
    "                       self._TxRC['center'].astype(np.float32),\n",
    "                       self._TxRC['ds'].astype(np.float32), \n",
    "                       u0, rf, deviceMetal=deviceName)\n",
    "\n",
    "    u2 = np.reshape(u2, xp.shape)\n",
    "    self._u2RayleighField = u2  \n",
    "    print(\"Simulation complete.\")\n",
    "\n",
    "frequency = 500e3  # Hz\n",
    "aperture = 64e-3  # m\n",
    "focal_length = 50e-3  # m\n",
    "speed_of_sound = SpeedofSoundWater(20.0)  \n",
    "\n",
    "class SimulationConditions(SimulationConditionsBASE):\n",
    "    '''\n",
    "    Simulation conditions for free water without CT or trajectory files.\n",
    "    '''\n",
    "    def __init__(self, Aperture=64e-3, FocalLength=50e-3, **kargs):\n",
    "        super().__init__(Aperture=Aperture, FocalLength=FocalLength, **kargs)\n",
    "\n",
    "    def GenTx(self):\n",
    "        # Generate the transducer geometry\n",
    "        c = SpeedofSoundWater(20.0)  # speed of sound in water\n",
    "        return GenerateFocusTx(self._Frequency, self._FocalLength, self._Aperture, c)\n",
    "\n",
    "    def CalculateRayleighFieldsFreeWater(self):\n",
    "        print(\"Calculating Rayleigh-based field for CTX500 in free water...\")\n",
    "\n",
    "        # Generate transducer surface\n",
    "        self._TxRC = self.GenTx()\n",
    "\n",
    "        # Define the wave number\n",
    "        cwvnb_extlay = np.array(2 * np.pi * self._Frequency / SpeedofSoundWater(20.0), dtype=np.complex64)\n",
    "\n",
    "        # Initialize pressure field (complex amplitude)\n",
    "        u0 = np.ones((self._TxRC['center'].shape[0], 1), dtype=np.complex64) * self._SourceAmpPa\n",
    "\n",
    "        # Define the computational domain\n",
    "        nx, ny, nz = len(self._XDim), len(self._YDim), len(self._ZDim)\n",
    "        yp, xp, zp = np.meshgrid(self._YDim, self._XDim, self._ZDim)\n",
    "\n",
    "        # Flatten domain to calculate the field\n",
    "        rf = np.vstack((xp.ravel(), yp.ravel(), zp.ravel())).T.astype(np.float32)\n",
    "\n",
    "        # Calculate the Rayleigh field\n",
    "        u2 = ForwardSimple(cwvnb_extlay, self._TxRC['center'].astype(np.float32), \n",
    "                           self._TxRC['ds'].astype(np.float32), u0, rf)\n",
    "        u2 = u2.reshape((nx, ny, nz))\n",
    "        self._u2RayleighField = u2\n",
    "\n",
    "        print(\"Field calculated in free water.\")\n",
    "\n",
    "sim_conditions = SimulationConditions(Frequency=frequency,\n",
    "                                      Aperture=aperture,\n",
    "                                      FocalLength=focal_length)\n",
    "\n",
    "sim_conditions.CalculateRayleighFieldsFreeWater()\n",
    "\n",
    "plt.imshow(np.abs(sim_conditions._u2RayleighField[:, :, int(len(sim_conditions._ZDim)/2)]),\n",
    "           cmap='jet')\n",
    "plt.colorbar()\n",
    "plt.title('CTX500 in Free Water (Rayleigh Field)')\n",
    "plt.show()\n"
   ]
  }
 ],
 "metadata": {
  "kernelspec": {
   "display_name": "neuronav",
   "language": "python",
   "name": "python3"
  },
  "language_info": {
   "codemirror_mode": {
    "name": "ipython",
    "version": 3
   },
   "file_extension": ".py",
   "mimetype": "text/x-python",
   "name": "python",
   "nbconvert_exporter": "python",
   "pygments_lexer": "ipython3",
   "version": "3.8.19"
  }
 },
 "nbformat": 4,
 "nbformat_minor": 2
}
